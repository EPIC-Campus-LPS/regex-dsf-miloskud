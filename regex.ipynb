{
 "cells": [
  {
   "cell_type": "code",
   "execution_count": 35,
   "metadata": {},
   "outputs": [
    {
     "name": "stdout",
     "output_type": "stream",
     "text": [
      "['fbutler', 'cmosley', 'dbeltran', 'sramirez', 'afulton', 'dcastro', 'cmorrison', 'ahaney', 'ofowler', 'ebauer', 'iburnett', 'avelazquez', 'fdonovan', 'hcrawford', 'aobrien', 'modling', 'rstevenson', 'rbonner', 'ehicks', 'abean', 'wgardner', 'cstokes', 'sharrison', 'gmason', 'hvance', 'tvilla', 'jdean', 'xvaughn', 'epace', 'tduran', 'lfields', 'ahamilton', 'cward', 'pvelez', 'achen', 'rsears', 'cbullock', 'lmorgan', 'jgarner', 'ahines', 'agill', 'jwatkins', 'nmccall', 'jnorris', 'oroach', 'dcallahan', 'ameyer', 'mnoble', 'bfitzpatrick', 'hclayton']\n"
     ]
    }
   ],
   "source": [
    "import re\n",
    "\n",
    "file1 = open(\"emails.txt\", \"r\")\n",
    "lns = str(file1.readlines())\n",
    "lns.strip(\"\\'\")\n",
    "lines = lns.split(',')\n",
    "names = []\n",
    "firstI = []\n",
    "lasts = re.findall(r\"_(\\w*)\",lns)\n",
    "for i in lines:\n",
    "    firstI += i[2]\n",
    "\n",
    "i = 0\n",
    "while i < len(lasts):\n",
    "    name = firstI[i] + lasts[i]\n",
    "    names.append(name)\n",
    "    i+=1\n",
    "print(names)\n"
   ]
  }
 ],
 "metadata": {
  "kernelspec": {
   "display_name": "Python 3",
   "language": "python",
   "name": "python3"
  },
  "language_info": {
   "codemirror_mode": {
    "name": "ipython",
    "version": 3
   },
   "file_extension": ".py",
   "mimetype": "text/x-python",
   "name": "python",
   "nbconvert_exporter": "python",
   "pygments_lexer": "ipython3",
   "version": "3.10.12"
  }
 },
 "nbformat": 4,
 "nbformat_minor": 2
}
