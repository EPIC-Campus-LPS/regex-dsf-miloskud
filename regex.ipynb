{
 "cells": [
  {
   "cell_type": "code",
   "execution_count": 43,
   "metadata": {},
   "outputs": [
    {
     "name": "stdout",
     "output_type": "stream",
     "text": [
      "['hr', 'finance', 'accounting', 'sales', 'it', 'ops', 'purchasing', 'randd', 'production', 'marketing', 'leadership', 'sales', 'it', 'ops', 'purchasing', 'randd', 'production', 'marketing', 'leadership', 'finance', 'accounting', 'sales', 'it', 'finance', 'accounting', 'sales', 'it', 'finance', 'accounting', 'sales', 'it', 'accounting', 'sales', 'accounting', 'sales', 'accounting', 'sales', 'accounting', 'sales', 'accounting', 'sales', 'accounting', 'sales', 'ops', 'ops', 'ops', 'hr', 'hr', 'hr', 'hr']\n",
      "['fbutler-hr', 'cmosley-finance', 'dbeltran-accounting', 'sramirez-sales', 'afulton-it', 'dcastro-ops', 'cmorrison-purchasing', 'ahaney-randd', 'ofowler-production', 'ebauer-marketing', 'iburnett-leadership', 'avelazquez-sales', 'fdonovan-it', 'hcrawford-ops', 'aobrien-purchasing', 'modling-randd', 'rstevenson-production', 'rbonner-marketing', 'ehicks-leadership', 'abean-finance', 'wgardner-accounting', 'cstokes-sales', 'sharrison-it', 'gmason-finance', 'hvance-accounting', 'tvilla-sales', 'jdean-it', 'xvaughn-finance', 'epace-accounting', 'tduran-sales', 'lfields-it', 'ahamilton-accounting', 'cward-sales', 'pvelez-accounting', 'achen-sales', 'rsears-accounting', 'cbullock-sales', 'lmorgan-accounting', 'jgarner-sales', 'ahines-accounting', 'agill-sales', 'jwatkins-accounting', 'nmccall-sales', 'jnorris-ops', 'oroach-ops', 'dcallahan-ops', 'ameyer-hr', 'mnoble-hr', 'bfitzpatrick-hr', 'hclayton-hr']\n"
     ]
    }
   ],
   "source": [
    "import re\n",
    "import random\n",
    "file1 = open(\"emails.txt\", \"r\")\n",
    "lns = str(file1.readlines())\n",
    "lns.strip(\"\\'\")\n",
    "lines = lns.split(',')\n",
    "names = []\n",
    "firstI = []\n",
    "passwords = []\n",
    "lasts = re.findall(r\"_(\\w*)\",lns)\n",
    "depts = re.findall(r\"@(\\w*)\\.\", lns)\n",
    "print(depts)\n",
    "for i in lines:\n",
    "    firstI += i[2]\n",
    "\n",
    "i = 0\n",
    "while i < len(lasts):\n",
    "    name = firstI[i] + lasts[i] + \"-\" + depts[i]\n",
    "    if(name in names):\n",
    "        name = firstI[i] + str(random.randint(0,9)) + lasts[i] + \"-\" + depts[i]\n",
    "        print(name)\n",
    "    names.append(name)\n",
    "    i+=1\n",
    "print(names)\n"
   ]
  }
 ],
 "metadata": {
  "kernelspec": {
   "display_name": "Python 3",
   "language": "python",
   "name": "python3"
  },
  "language_info": {
   "codemirror_mode": {
    "name": "ipython",
    "version": 3
   },
   "file_extension": ".py",
   "mimetype": "text/x-python",
   "name": "python",
   "nbconvert_exporter": "python",
   "pygments_lexer": "ipython3",
   "version": "3.10.12"
  }
 },
 "nbformat": 4,
 "nbformat_minor": 2
}
