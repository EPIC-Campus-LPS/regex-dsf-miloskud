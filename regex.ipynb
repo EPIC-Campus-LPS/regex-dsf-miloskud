{
 "cells": [
  {
   "cell_type": "code",
   "execution_count": 19,
   "metadata": {},
   "outputs": [
    {
     "ename": "AttributeError",
     "evalue": "'re.Match' object has no attribute 'strip'",
     "output_type": "error",
     "traceback": [
      "\u001b[0;31m---------------------------------------------------------------------------\u001b[0m",
      "\u001b[0;31mAttributeError\u001b[0m                            Traceback (most recent call last)",
      "Cell \u001b[0;32mIn[19], line 12\u001b[0m\n\u001b[1;32m     10\u001b[0m     \u001b[38;5;66;03m#print(re.search(r\"_(\\w*)\",i))\u001b[39;00m\n\u001b[1;32m     11\u001b[0m     name \u001b[38;5;241m=\u001b[39m last\u001b[38;5;241m.\u001b[39mgroup()\n\u001b[0;32m---> 12\u001b[0m     \u001b[43mlast\u001b[49m\u001b[38;5;241;43m.\u001b[39;49m\u001b[43mstrip\u001b[49m(\u001b[38;5;124m\"\u001b[39m\u001b[38;5;124m_\u001b[39m\u001b[38;5;124m\"\u001b[39m)\n\u001b[1;32m     13\u001b[0m     \u001b[38;5;66;03m#names += last\u001b[39;00m\n\u001b[1;32m     14\u001b[0m \u001b[38;5;66;03m#print(firstI)\u001b[39;00m\n\u001b[1;32m     15\u001b[0m \u001b[38;5;66;03m#print(names)\u001b[39;00m\n\u001b[1;32m     16\u001b[0m \u001b[38;5;66;03m#print(lines)\u001b[39;00m\n",
      "\u001b[0;31mAttributeError\u001b[0m: 're.Match' object has no attribute 'strip'"
     ]
    }
   ],
   "source": [
    import re

file1 = open("emails.txt", "r")
lns = str(file1.readlines())
lns.strip("\'")
lines = lns.split(',')
print(lines[0])
names = []
firstI = []
print(lines)

lasts = re.findall(r"_(\w*)",lns)
print(lasts)
for i in lines:
    firstI += i[2]

i = 0
print(firstI)
while i < len(lasts):
    name = firstI[i] + lasts[i]
    
    names.append(name)
    i+=1
print(names)

   ]
  }
 ],
 "metadata": {
  "kernelspec": {
   "display_name": "Python 3",
   "language": "python",
   "name": "python3"
  },
  "language_info": {
   "codemirror_mode": {
    "name": "ipython",
    "version": 3
   },
   "file_extension": ".py",
   "mimetype": "text/x-python",
   "name": "python",
   "nbconvert_exporter": "python",
   "pygments_lexer": "ipython3",
   "version": "3.10.12"
  }
 },
 "nbformat": 4,
 "nbformat_minor": 2
}
