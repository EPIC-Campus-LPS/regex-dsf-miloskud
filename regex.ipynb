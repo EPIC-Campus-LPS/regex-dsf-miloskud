{
 "cells": [
  {
   "cell_type": "code",
   "execution_count": 34,
   "metadata": {},
   "outputs": [
    {
     "name": "stdout",
     "output_type": "stream",
     "text": [
      "['findlay_butler@hr.yahoo.com\\n'\n",
      "[\"['findlay_butler@hr.yahoo.com\\\\n'\", \" 'cain_mosley@finance.yahoo.com\\\\n'\", \" 'donna_beltran@accounting.yahoo.com\\\\n'\", \" 'sian_ramirez@sales.yahoo.com\\\\n'\", \" 'angelo_fulton@it.yahoo.com\\\\n'\", \" 'daniyal_castro@ops.yahoo.com\\\\n'\", \" 'cayden_morrison@purchasing.yahoo.com\\\\n'\", \" 'amir_haney@randd.yahoo.com\\\\n'\", \" 'olive_fowler@production.yahoo.com\\\\n'\", \" 'ernest_bauer@marketing.yahoo.com\\\\n'\", \" 'isla_burnett@leadership.yahoo.com\\\\n'\", \" 'albert_velazquez@sales.yahoo.com\\\\n'\", \" 'filip_donovan@it.yahoo.com\\\\n'\", \" 'hamza_crawford@ops.yahoo.com\\\\n'\", \" 'astrid_obrien@purchasing.yahoo.com\\\\n'\", \" 'milan_odling@randd.yahoo.com\\\\n'\", \" 'ruairi_stevenson@production.yahoo.com\\\\n'\", \" 'ria_bonner@marketing.yahoo.com\\\\n'\", \" 'ela_hicks@leadership.yahoo.com\\\\n'\", \" 'aron_bean@finance.yahoo.com\\\\n'\", \" 'woody_gardner@accounting.yahoo.com\\\\n'\", \" 'clyde_stokes@sales.yahoo.com\\\\n'\", \" 'samantha_harrison@it.yahoo.com\\\\n'\", \" 'gina_mason@finance.yahoo.com\\\\n'\", \" 'hollie_vance@accounting.yahoo.com\\\\n'\", \" 'tillie_villa@sales.yahoo.com\\\\n'\", \" 'jacqueline_dean@it.yahoo.com\\\\n'\", \" 'xavier_vaughn@finance.yahoo.com\\\\n'\", \" 'elif_pace@accounting.yahoo.com\\\\n'\", \" 'thalia_duran@sales.yahoo.com\\\\n'\", \" 'lacey_fields@it.yahoo.com\\\\n'\", \" 'abi_hamilton@accounting.yahoo.com\\\\n'\", \" 'carys_ward@sales.yahoo.com\\\\n'\", \" 'philippa_velez@accounting.yahoo.com\\\\n'\", \" 'annie_chen@sales.yahoo.com\\\\n'\", \" 'rhonda_sears@accounting.yahoo.com\\\\n'\", \" 'casey_bullock@sales.yahoo.com\\\\n'\", \" 'lily-may_morgan@accounting.yahoo.com\\\\n'\", \" 'jak_garner@sales.yahoo.com\\\\n'\", \" 'abbas_hines@accounting.yahoo.com\\\\n'\", \" 'amira_gill@sales.yahoo.com\\\\n'\", \" 'jaime_watkins@accounting.yahoo.com\\\\n'\", \" 'noor_mccall@sales.yahoo.com\\\\n'\", \" 'jasper_norris@ops.yahoo.com\\\\n'\", \" 'olivier_roach@ops.yahoo.com\\\\n'\", \" 'dhruv_callahan@ops.yahoo.com\\\\n'\", \" 'anjali_meyer@hr.yahoo.com\\\\n'\", \" 'mae_noble@hr.yahoo.com\\\\n'\", \" 'brogan_fitzpatrick@hr.yahoo.com\\\\n'\", \" 'haris_clayton@hr.yahoo.com\\\\n'\", \" '\\\\n']\"]\n",
      "['butler', 'mosley', 'beltran', 'ramirez', 'fulton', 'castro', 'morrison', 'haney', 'fowler', 'bauer', 'burnett', 'velazquez', 'donovan', 'crawford', 'obrien', 'odling', 'stevenson', 'bonner', 'hicks', 'bean', 'gardner', 'stokes', 'harrison', 'mason', 'vance', 'villa', 'dean', 'vaughn', 'pace', 'duran', 'fields', 'hamilton', 'ward', 'velez', 'chen', 'sears', 'bullock', 'morgan', 'garner', 'hines', 'gill', 'watkins', 'mccall', 'norris', 'roach', 'callahan', 'meyer', 'noble', 'fitzpatrick', 'clayton']\n",
      "['f', 'c', 'd', 's', 'a', 'd', 'c', 'a', 'o', 'e', 'i', 'a', 'f', 'h', 'a', 'm', 'r', 'r', 'e', 'a', 'w', 'c', 's', 'g', 'h', 't', 'j', 'x', 'e', 't', 'l', 'a', 'c', 'p', 'a', 'r', 'c', 'l', 'j', 'a', 'a', 'j', 'n', 'j', 'o', 'd', 'a', 'm', 'b', 'h', '\\\\']\n",
      "['fbutler', 'cmosley', 'dbeltran', 'sramirez', 'afulton', 'dcastro', 'cmorrison', 'ahaney', 'ofowler', 'ebauer', 'iburnett', 'avelazquez', 'fdonovan', 'hcrawford', 'aobrien', 'modling', 'rstevenson', 'rbonner', 'ehicks', 'abean', 'wgardner', 'cstokes', 'sharrison', 'gmason', 'hvance', 'tvilla', 'jdean', 'xvaughn', 'epace', 'tduran', 'lfields', 'ahamilton', 'cward', 'pvelez', 'achen', 'rsears', 'cbullock', 'lmorgan', 'jgarner', 'ahines', 'agill', 'jwatkins', 'nmccall', 'jnorris', 'oroach', 'dcallahan', 'ameyer', 'mnoble', 'bfitzpatrick', 'hclayton']\n"
     ]
    }
   ],
   "source": [
    "import re\n",
    "\n",
    "file1 = open(\"emails.txt\", \"r\")\n",
    "lns = str(file1.readlines())\n",
    "lns.strip(\"\\'\")\n",
    "lines = lns.split(',')\n",
    "print(lines[0])\n",
    "names = []\n",
    "firstI = []\n",
    "print(lines)\n",
    "\n",
    "lasts = re.findall(r\"_(\\w*)\",lns)\n",
    "print(lasts)\n",
    "for i in lines:\n",
    "    firstI += i[2]\n",
    "\n",
    "i = 0\n",
    "print(firstI)\n",
    "while i < len(lasts):\n",
    "    name = firstI[i] + lasts[i]\n",
    "    \n",
    "    names.append(name)\n",
    "    i+=1\n",
    "print(names)\n"
   ]
  }
 ],
 "metadata": {
  "kernelspec": {
   "display_name": "Python 3",
   "language": "python",
   "name": "python3"
  },
  "language_info": {
   "codemirror_mode": {
    "name": "ipython",
    "version": 3
   },
   "file_extension": ".py",
   "mimetype": "text/x-python",
   "name": "python",
   "nbconvert_exporter": "python",
   "pygments_lexer": "ipython3",
   "version": "3.10.12"
  }
 },
 "nbformat": 4,
 "nbformat_minor": 2
}
